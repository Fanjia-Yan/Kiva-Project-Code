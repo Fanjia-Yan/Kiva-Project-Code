{
 "cells": [
  {
   "cell_type": "code",
   "execution_count": 1,
   "id": "visible-primary",
   "metadata": {},
   "outputs": [],
   "source": [
    "import pandas as pd\n",
    "import string\n",
    "import numpy as np\n",
    "from datetime import date\n",
    "from matplotlib import pyplot as plt"
   ]
  },
  {
   "cell_type": "code",
   "execution_count": 2,
   "id": "different-acoustic",
   "metadata": {},
   "outputs": [],
   "source": [
    "lenders = pd.read_csv(\"lenders.csv\")\n",
    "loans_lenders = pd.read_csv('loans_lenders.csv')\n",
    "loans = pd.read_csv(\"loans.csv\")"
   ]
  },
  {
   "cell_type": "code",
   "execution_count": 58,
   "id": "amazing-jacob",
   "metadata": {},
   "outputs": [],
   "source": [
    "loans_lenders['LENDERS'] = loans_lenders['LENDERS'].str.split(', ')\n",
    "loans_lenders_list = loans_lenders.explode('LENDERS')\n",
    "lenders['MEMBER_SINCE'] = pd.to_datetime(lenders['MEMBER_SINCE'], unit='s')\n",
    "lenders['PURCHASE_PER_MONTH'] = lenders['LOAN_PURCHASE_NUM']/((pd.to_datetime('2021-02-20 00:00:00') - lenders['MEMBER_SINCE'])/np.timedelta64(1, 'M'))"
   ]
  },
  {
   "cell_type": "code",
   "execution_count": 122,
   "id": "satisfied-reach",
   "metadata": {},
   "outputs": [
    {
     "data": {
      "text/plain": [
       "(array([1.500556e+06, 3.000800e+04, 8.711000e+03, 3.998000e+03,\n",
       "        2.092000e+03, 1.351000e+03, 8.790000e+02, 5.840000e+02,\n",
       "        4.860000e+02, 3.420000e+02, 2.850000e+02, 2.110000e+02,\n",
       "        1.810000e+02, 1.450000e+02, 1.020000e+02, 1.090000e+02,\n",
       "        9.400000e+01, 7.600000e+01, 6.700000e+01]),\n",
       " array([ 0,  1,  2,  3,  4,  5,  6,  7,  8,  9, 10, 11, 12, 13, 14, 15, 16,\n",
       "        17, 18, 19]),\n",
       " <BarContainer object of 19 artists>)"
      ]
     },
     "execution_count": 122,
     "metadata": {},
     "output_type": "execute_result"
    },
    {
     "data": {
      "image/png": "[encoded data removed]",
      "text/plain": [
       "<Figure size 432x288 with 1 Axes>"
      ]
     },
     "metadata": {
      "needs_background": "light"
     },
     "output_type": "display_data"
    }
   ],
   "source": [
    "plt.ylim(0,40000)\n",
    "plt.xlim(0,10)\n",
    "plt.hist(lenders['PURCHASE_PER_MONTH'],bins = [i for i in range(20)])"
   ]
  },
  {
   "cell_type": "code",
   "execution_count": 3,
   "id": "sealed-cornell",
   "metadata": {},
   "outputs": [],
   "source": [
    "loans_lenders['LENDERS'] = loans_lenders['LENDERS'].str.split(', ')\n",
    "#loans_lenders_list = loans_lenders.merge(l_tags, left_on = 'LOAN_ID', right_on='LOAN_ID', how = 'left')\n",
    "#loans_lenders_list = loans_lenders_list.explode('LENDERS')\n",
    "#loans_lenders_list = loans_lenders_list.drop('loan_id', axis = 1)"
   ]
  },
  {
   "cell_type": "code",
   "execution_count": 44,
   "id": "lesbian-attribute",
   "metadata": {},
   "outputs": [
    {
     "data": {
      "text/html": [
       "<div>\n",
       "<style scoped>\n",
       "    .dataframe tbody tr th:only-of-type {\n",
       "        vertical-align: middle;\n",
       "    }\n",
       "\n",
       "    .dataframe tbody tr th {\n",
       "        vertical-align: top;\n",
       "    }\n",
       "\n",
       "    .dataframe thead th {\n",
       "        text-align: right;\n",
       "    }\n",
       "</style>\n",
       "<table border=\"1\" class=\"dataframe\">\n",
       "  <thead>\n",
       "    <tr style=\"text-align: right;\">\n",
       "      <th></th>\n",
       "      <th>LOAN_ID</th>\n",
       "      <th>LENDERS</th>\n",
       "      <th>TAGS</th>\n",
       "    </tr>\n",
       "  </thead>\n",
       "  <tbody>\n",
       "    <tr>\n",
       "      <th>0</th>\n",
       "      <td>572013</td>\n",
       "      <td>NaN</td>\n",
       "      <td>[user_favorite, user_favorite]</td>\n",
       "    </tr>\n",
       "    <tr>\n",
       "      <th>1</th>\n",
       "      <td>509279</td>\n",
       "      <td>NaN</td>\n",
       "      <td>NaN</td>\n",
       "    </tr>\n",
       "    <tr>\n",
       "      <th>2</th>\n",
       "      <td>90715</td>\n",
       "      <td>NaN</td>\n",
       "      <td>NaN</td>\n",
       "    </tr>\n",
       "    <tr>\n",
       "      <th>3</th>\n",
       "      <td>377330</td>\n",
       "      <td>NaN</td>\n",
       "      <td>NaN</td>\n",
       "    </tr>\n",
       "    <tr>\n",
       "      <th>4</th>\n",
       "      <td>504951</td>\n",
       "      <td>NaN</td>\n",
       "      <td>[volunteer_pick, volunteer_like]</td>\n",
       "    </tr>\n",
       "    <tr>\n",
       "      <th>...</th>\n",
       "      <td>...</td>\n",
       "      <td>...</td>\n",
       "      <td>...</td>\n",
       "    </tr>\n",
       "    <tr>\n",
       "      <th>1998472</th>\n",
       "      <td>1996513</td>\n",
       "      <td>NaN</td>\n",
       "      <td>[Parent, Woman-Owned Business]</td>\n",
       "    </tr>\n",
       "    <tr>\n",
       "      <th>1998473</th>\n",
       "      <td>2011573</td>\n",
       "      <td>NaN</td>\n",
       "      <td>[Woman-Owned Business, Repeat Borrower, Eco-fr...</td>\n",
       "    </tr>\n",
       "    <tr>\n",
       "      <th>1998474</th>\n",
       "      <td>2011764</td>\n",
       "      <td>NaN</td>\n",
       "      <td>NaN</td>\n",
       "    </tr>\n",
       "    <tr>\n",
       "      <th>1998475</th>\n",
       "      <td>2012621</td>\n",
       "      <td>NaN</td>\n",
       "      <td>NaN</td>\n",
       "    </tr>\n",
       "    <tr>\n",
       "      <th>1998476</th>\n",
       "      <td>2017526</td>\n",
       "      <td>NaN</td>\n",
       "      <td>NaN</td>\n",
       "    </tr>\n",
       "  </tbody>\n",
       "</table>\n",
       "<p>1998477 rows × 3 columns</p>\n",
       "</div>"
      ],
      "text/plain": [
       "         LOAN_ID  LENDERS                                               TAGS\n",
       "0         572013      NaN                     [user_favorite, user_favorite]\n",
       "1         509279      NaN                                                NaN\n",
       "2          90715      NaN                                                NaN\n",
       "3         377330      NaN                                                NaN\n",
       "4         504951      NaN                   [volunteer_pick, volunteer_like]\n",
       "...          ...      ...                                                ...\n",
       "1998472  1996513      NaN                     [Parent, Woman-Owned Business]\n",
       "1998473  2011573      NaN  [Woman-Owned Business, Repeat Borrower, Eco-fr...\n",
       "1998474  2011764      NaN                                                NaN\n",
       "1998475  2012621      NaN                                                NaN\n",
       "1998476  2017526      NaN                                                NaN\n",
       "\n",
       "[1998477 rows x 3 columns]"
      ]
     },
     "execution_count": 44,
     "metadata": {},
     "output_type": "execute_result"
    }
   ],
   "source": [
    "loans_lenders_list"
   ]
  },
  {
   "cell_type": "code",
   "execution_count": 4,
   "id": "diverse-ratio",
   "metadata": {},
   "outputs": [
    {
     "ename": "NameError",
     "evalue": "name 'loans_lenders_list' is not defined",
     "output_type": "error",
     "traceback": [
      "\u001b[0;31m---------------------------------------------------------------------------\u001b[0m",
      "\u001b[0;31mNameError\u001b[0m                                 Traceback (most recent call last)",
      "\u001b[0;32m<ipython-input-4-970149b23202>\u001b[0m in \u001b[0;36m<module>\u001b[0;34m\u001b[0m\n\u001b[0;32m----> 1\u001b[0;31m \u001b[0mlenders_dict\u001b[0m\u001b[0;34m=\u001b[0m\u001b[0mloans_lenders_list\u001b[0m\u001b[0;34m.\u001b[0m\u001b[0mgroupby\u001b[0m\u001b[0;34m(\u001b[0m\u001b[0;34m'LENDERS'\u001b[0m\u001b[0;34m)\u001b[0m\u001b[0;34m.\u001b[0m\u001b[0maggregate\u001b[0m\u001b[0;34m(\u001b[0m\u001b[0;32mlambda\u001b[0m \u001b[0mx\u001b[0m\u001b[0;34m:\u001b[0m \u001b[0mtuple\u001b[0m\u001b[0;34m(\u001b[0m\u001b[0mx\u001b[0m\u001b[0;34m)\u001b[0m\u001b[0;34m)\u001b[0m\u001b[0;34m\u001b[0m\u001b[0;34m\u001b[0m\u001b[0m\n\u001b[0m",
      "\u001b[0;31mNameError\u001b[0m: name 'loans_lenders_list' is not defined"
     ]
    }
   ],
   "source": [
    "lenders_dict=loans_lenders_list.groupby('LENDERS').aggregate(lambda x: tuple(x))"
   ]
  },
  {
   "cell_type": "code",
   "execution_count": 36,
   "id": "involved-combination",
   "metadata": {},
   "outputs": [],
   "source": [
    "lenders_merge  = lenders.merge(lenders_dict, left_on ='PERMANENT_NAME', right_on ='LENDERS', how = 'left')"
   ]
  },
  {
   "cell_type": "code",
   "execution_count": 5,
   "id": "according-collectible",
   "metadata": {},
   "outputs": [
    {
     "data": {
      "text/html": [
       "<div>\n",
       "<style scoped>\n",
       "    .dataframe tbody tr th:only-of-type {\n",
       "        vertical-align: middle;\n",
       "    }\n",
       "\n",
       "    .dataframe tbody tr th {\n",
       "        vertical-align: top;\n",
       "    }\n",
       "\n",
       "    .dataframe thead th {\n",
       "        text-align: right;\n",
       "    }\n",
       "</style>\n",
       "<table border=\"1\" class=\"dataframe\">\n",
       "  <thead>\n",
       "    <tr style=\"text-align: right;\">\n",
       "      <th></th>\n",
       "      <th>LOAN_ID</th>\n",
       "      <th>LENDERS</th>\n",
       "    </tr>\n",
       "  </thead>\n",
       "  <tbody>\n",
       "    <tr>\n",
       "      <th>0</th>\n",
       "      <td>572013</td>\n",
       "      <td>[aaron6136, suzette9319, sophia8549, jessica76...</td>\n",
       "    </tr>\n",
       "    <tr>\n",
       "      <th>1</th>\n",
       "      <td>509279</td>\n",
       "      <td>[nick5848, elize3658, alex6186, jensfredrik919...</td>\n",
       "    </tr>\n",
       "    <tr>\n",
       "      <th>2</th>\n",
       "      <td>90715</td>\n",
       "      <td>[maggie7526, harish3790, stephen3381, lynette5...</td>\n",
       "    </tr>\n",
       "    <tr>\n",
       "      <th>3</th>\n",
       "      <td>377330</td>\n",
       "      <td>[paddy3814, matthewpeters, jaclyn8905, ramius6...</td>\n",
       "    </tr>\n",
       "    <tr>\n",
       "      <th>4</th>\n",
       "      <td>504951</td>\n",
       "      <td>[shawn8447, shawn8447, evancarmichael, yaro506...</td>\n",
       "    </tr>\n",
       "    <tr>\n",
       "      <th>...</th>\n",
       "      <td>...</td>\n",
       "      <td>...</td>\n",
       "    </tr>\n",
       "    <tr>\n",
       "      <th>1998472</th>\n",
       "      <td>1996513</td>\n",
       "      <td>[mallory5472, shiekhah, thehollypeck, imad3393]</td>\n",
       "    </tr>\n",
       "    <tr>\n",
       "      <th>1998473</th>\n",
       "      <td>2011573</td>\n",
       "      <td>[bob4739, william35124246, manon3668, michaeli...</td>\n",
       "    </tr>\n",
       "    <tr>\n",
       "      <th>1998474</th>\n",
       "      <td>2011764</td>\n",
       "      <td>[ann86371901, rotaryclub4823, keyvan9314, zoha...</td>\n",
       "    </tr>\n",
       "    <tr>\n",
       "      <th>1998475</th>\n",
       "      <td>2012621</td>\n",
       "      <td>[opajan9527, lendiogives, hans3822, gooddogg1,...</td>\n",
       "    </tr>\n",
       "    <tr>\n",
       "      <th>1998476</th>\n",
       "      <td>2017526</td>\n",
       "      <td>[dainius5744, lendiogives, gooddogg1]</td>\n",
       "    </tr>\n",
       "  </tbody>\n",
       "</table>\n",
       "<p>1998477 rows × 2 columns</p>\n",
       "</div>"
      ],
      "text/plain": [
       "         LOAN_ID                                            LENDERS\n",
       "0         572013  [aaron6136, suzette9319, sophia8549, jessica76...\n",
       "1         509279  [nick5848, elize3658, alex6186, jensfredrik919...\n",
       "2          90715  [maggie7526, harish3790, stephen3381, lynette5...\n",
       "3         377330  [paddy3814, matthewpeters, jaclyn8905, ramius6...\n",
       "4         504951  [shawn8447, shawn8447, evancarmichael, yaro506...\n",
       "...          ...                                                ...\n",
       "1998472  1996513    [mallory5472, shiekhah, thehollypeck, imad3393]\n",
       "1998473  2011573  [bob4739, william35124246, manon3668, michaeli...\n",
       "1998474  2011764  [ann86371901, rotaryclub4823, keyvan9314, zoha...\n",
       "1998475  2012621  [opajan9527, lendiogives, hans3822, gooddogg1,...\n",
       "1998476  2017526              [dainius5744, lendiogives, gooddogg1]\n",
       "\n",
       "[1998477 rows x 2 columns]"
      ]
     },
     "execution_count": 5,
     "metadata": {},
     "output_type": "execute_result"
    }
   ],
   "source": [
    "loans_lenders"
   ]
  },
  {
   "cell_type": "code",
   "execution_count": null,
   "id": "scenic-identifier",
   "metadata": {},
   "outputs": [],
   "source": [
    "df3 = pd.DataFrame(loans_lenders['LOAN_ID'].apply(lambda x: loans['TAGS'] if x in loans['LOAN_ID'] else None))"
   ]
  },
  {
   "cell_type": "code",
   "execution_count": null,
   "id": "designing-medication",
   "metadata": {},
   "outputs": [],
   "source": [
    "loans[loans['LOAN_ID'] == 1998476 ]"
   ]
  },
  {
   "cell_type": "code",
   "execution_count": null,
   "id": "rural-lancaster",
   "metadata": {},
   "outputs": [],
   "source": []
  }
 ],
 "metadata": {
  "kernelspec": {
   "display_name": "Python 3",
   "language": "python",
   "name": "python3"
  },
  "language_info": {
   "codemirror_mode": {
    "name": "ipython",
    "version": 3
   },
   "file_extension": ".py",
   "mimetype": "text/x-python",
   "name": "python",
   "nbconvert_exporter": "python",
   "pygments_lexer": "ipython3",
   "version": "3.8.3"
  }
 },
 "nbformat": 4,
 "nbformat_minor": 5
}

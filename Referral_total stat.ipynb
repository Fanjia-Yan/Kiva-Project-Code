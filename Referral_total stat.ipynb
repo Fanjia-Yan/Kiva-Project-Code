{
 "cells": [
  {
   "cell_type": "code",
   "execution_count": 1,
   "id": "solid-pitch",
   "metadata": {},
   "outputs": [],
   "source": [
    "import pandas as pd\n",
    "import numpy as np\n",
    "from matplotlib import pyplot as plt "
   ]
  },
  {
   "cell_type": "code",
   "execution_count": 29,
   "id": "adopted-poker",
   "metadata": {},
   "outputs": [],
   "source": [
    "col_list = ['REFR_URLHOST','REFR_MEDIUM']\n",
    "nov_data1 = pd.read_csv('Nov2020_pt1.csv', usecols = col_list)\n",
    "nov_data2 = pd.read_csv('Nov2020_pt3.csv', usecols = [22,27])"
   ]
  },
  {
   "cell_type": "code",
   "execution_count": 42,
   "id": "warming-newspaper",
   "metadata": {},
   "outputs": [],
   "source": [
    "nov_data2.columns = col_list\n",
    "nov_data = pd.concat([nov_data1,nov_data2], ignore_index = True)"
   ]
  },
  {
   "cell_type": "code",
   "execution_count": 147,
   "id": "cardiac-schedule",
   "metadata": {},
   "outputs": [],
   "source": [
    "nov_social = nov_data[nov_data['REFR_MEDIUM'] == 'social']"
   ]
  },
  {
   "cell_type": "code",
   "execution_count": 204,
   "id": "seventh-disclosure",
   "metadata": {},
   "outputs": [
    {
     "name": "stderr",
     "output_type": "stream",
     "text": [
      "<ipython-input-204-369e6b37dcb8>:1: SettingWithCopyWarning: \n",
      "A value is trying to be set on a copy of a slice from a DataFrame.\n",
      "Try using .loc[row_indexer,col_indexer] = value instead\n",
      "\n",
      "See the caveats in the documentation: https://pandas.pydata.org/pandas-docs/stable/user_guide/indexing.html#returning-a-view-versus-a-copy\n",
      "  nov_social['REFR_URLHOST'] = nov_social['REFR_URLHOST'].str.replace('tco','twitter')\n"
     ]
    }
   ],
   "source": [
    "#nov_social['REFR_URLHOST'] = nov_social['REFR_URLHOST'].str.replace('www.','')\n",
    "#nov_social['REFR_URLHOST'] = nov_social['REFR_URLHOST'].str.replace('.com','')\n",
    "#nov_social['REFR_URLHOST'] = nov_social['REFR_URLHOST'].str.replace('.cn','')\n",
    "#nov_social['REFR_URLHOST'] = nov_social['REFR_URLHOST'].str.replace('tco','twitter')"
   ]
  },
  {
   "cell_type": "code",
   "execution_count": 205,
   "id": "conventional-africa",
   "metadata": {},
   "outputs": [],
   "source": [
    "nov_social_group = nov_social.groupby('REFR_URLHOST').size()"
   ]
  },
  {
   "cell_type": "code",
   "execution_count": 206,
   "id": "unlimited-parallel",
   "metadata": {},
   "outputs": [],
   "source": [
    "nov_social_group = nov_social_group.sort_values(ascending = False)"
   ]
  },
  {
   "cell_type": "code",
   "execution_count": null,
   "id": "unavailable-enclosure",
   "metadata": {},
   "outputs": [],
   "source": [
    "colors = (\"#F9D9D9\", \"#C6E4EE\", \"#eedd82\",\n",
    "          \"#90ee90\", \"beige\", \"beige\")\n",
    "fig, ax = plt.subplots(figsize =(10, 6))\n",
    "wedges, texts, autotexts = ax.pie(nov_social_group[0:5], \n",
    "                                  autopct = '' ,\n",
    "                                  textprops={'fontsize': 30},\n",
    "                                  shadow = False,\n",
    "                                  colors = colors,\n",
    "                                  startangle = 90)\n",
    "ax.legend(wedges, nov_social_group[0:5].index,\n",
    "          loc =\"center left\",\n",
    "          bbox_to_anchor =(1, 0, 0.5, 1))\n",
    "  \n",
    "plt.setp(autotexts, size = 15, weight =\"bold\")\n",
    "  \n",
    "# show plot\n",
    "plt.tight_layout()\n",
    "plt.savefig('referral.png',dpi = 1200)\n",
    "plt.show()\n"
   ]
  },
  {
   "cell_type": "code",
   "execution_count": 201,
   "id": "sixth-reputation",
   "metadata": {},
   "outputs": [
    {
     "data": {
      "text/plain": [
       "REFR_URLHOST\n",
       "facebook                73023\n",
       "instagram               13757\n",
       "youtube                  5963\n",
       "tco                      4344\n",
       "linkedin                 2167\n",
       "reddit                    479\n",
       "pinterest                 115\n",
       "quora                      30\n",
       "github                     17\n",
       "awayvk                      9\n",
       "disqus                      7\n",
       "newsbinator                 7\n",
       "touchfacebook               5\n",
       "businessfacebook            3\n",
       "douban                      3\n",
       "lprodfacebook               2\n",
       "es-lafacebook               2\n",
       "clickmymailru               2\n",
       "xqillasourceforgenet        2\n",
       "pelinkedin                  1\n",
       "tr-trfacebook               1\n",
       "tumblr                      1\n",
       "verticaltheorytumblr        1\n",
       "dtype: int64"
      ]
     },
     "execution_count": 201,
     "metadata": {},
     "output_type": "execute_result"
    }
   ],
   "source": [
    "nov_social_group"
   ]
  },
  {
   "cell_type": "code",
   "execution_count": 37,
   "id": "opposed-blues",
   "metadata": {},
   "outputs": [
    {
     "data": {
      "text/html": [
       "<div>\n",
       "<style scoped>\n",
       "    .dataframe tbody tr th:only-of-type {\n",
       "        vertical-align: middle;\n",
       "    }\n",
       "\n",
       "    .dataframe tbody tr th {\n",
       "        vertical-align: top;\n",
       "    }\n",
       "\n",
       "    .dataframe thead th {\n",
       "        text-align: right;\n",
       "    }\n",
       "</style>\n",
       "<table border=\"1\" class=\"dataframe\">\n",
       "  <thead>\n",
       "    <tr style=\"text-align: right;\">\n",
       "      <th></th>\n",
       "      <th>REFR_URLHOST</th>\n",
       "      <th>REFR_MEDIUM</th>\n",
       "      <th>www.kiva.org.1</th>\n",
       "      <th>internal</th>\n",
       "    </tr>\n",
       "  </thead>\n",
       "  <tbody>\n",
       "    <tr>\n",
       "      <th>0</th>\n",
       "      <td>NaN</td>\n",
       "      <td>NaN</td>\n",
       "      <td>NaN</td>\n",
       "      <td>NaN</td>\n",
       "    </tr>\n",
       "    <tr>\n",
       "      <th>1</th>\n",
       "      <td>NaN</td>\n",
       "      <td>NaN</td>\n",
       "      <td>NaN</td>\n",
       "      <td>NaN</td>\n",
       "    </tr>\n",
       "    <tr>\n",
       "      <th>2</th>\n",
       "      <td>NaN</td>\n",
       "      <td>NaN</td>\n",
       "      <td>NaN</td>\n",
       "      <td>NaN</td>\n",
       "    </tr>\n",
       "    <tr>\n",
       "      <th>3</th>\n",
       "      <td>www.kiva.org</td>\n",
       "      <td>internal</td>\n",
       "      <td>NaN</td>\n",
       "      <td>NaN</td>\n",
       "    </tr>\n",
       "    <tr>\n",
       "      <th>4</th>\n",
       "      <td>www.kiva.org</td>\n",
       "      <td>internal</td>\n",
       "      <td>NaN</td>\n",
       "      <td>NaN</td>\n",
       "    </tr>\n",
       "    <tr>\n",
       "      <th>...</th>\n",
       "      <td>...</td>\n",
       "      <td>...</td>\n",
       "      <td>...</td>\n",
       "      <td>...</td>\n",
       "    </tr>\n",
       "    <tr>\n",
       "      <th>4999898</th>\n",
       "      <td>NaN</td>\n",
       "      <td>NaN</td>\n",
       "      <td>NaN</td>\n",
       "      <td>NaN</td>\n",
       "    </tr>\n",
       "    <tr>\n",
       "      <th>4999899</th>\n",
       "      <td>NaN</td>\n",
       "      <td>NaN</td>\n",
       "      <td>www.kiva.org</td>\n",
       "      <td>internal</td>\n",
       "    </tr>\n",
       "    <tr>\n",
       "      <th>4999900</th>\n",
       "      <td>NaN</td>\n",
       "      <td>NaN</td>\n",
       "      <td>NaN</td>\n",
       "      <td>NaN</td>\n",
       "    </tr>\n",
       "    <tr>\n",
       "      <th>4999901</th>\n",
       "      <td>NaN</td>\n",
       "      <td>NaN</td>\n",
       "      <td>www.kiva.org</td>\n",
       "      <td>internal</td>\n",
       "    </tr>\n",
       "    <tr>\n",
       "      <th>4999902</th>\n",
       "      <td>NaN</td>\n",
       "      <td>NaN</td>\n",
       "      <td>www.kiva.org</td>\n",
       "      <td>internal</td>\n",
       "    </tr>\n",
       "  </tbody>\n",
       "</table>\n",
       "<p>9999852 rows × 4 columns</p>\n",
       "</div>"
      ],
      "text/plain": [
       "         REFR_URLHOST REFR_MEDIUM www.kiva.org.1  internal\n",
       "0                 NaN         NaN            NaN       NaN\n",
       "1                 NaN         NaN            NaN       NaN\n",
       "2                 NaN         NaN            NaN       NaN\n",
       "3        www.kiva.org    internal            NaN       NaN\n",
       "4        www.kiva.org    internal            NaN       NaN\n",
       "...               ...         ...            ...       ...\n",
       "4999898           NaN         NaN            NaN       NaN\n",
       "4999899           NaN         NaN   www.kiva.org  internal\n",
       "4999900           NaN         NaN            NaN       NaN\n",
       "4999901           NaN         NaN   www.kiva.org  internal\n",
       "4999902           NaN         NaN   www.kiva.org  internal\n",
       "\n",
       "[9999852 rows x 4 columns]"
      ]
     },
     "execution_count": 37,
     "metadata": {},
     "output_type": "execute_result"
    }
   ],
   "source": [
    "x"
   ]
  },
  {
   "cell_type": "code",
   "execution_count": 61,
   "id": "animated-atlanta",
   "metadata": {},
   "outputs": [
    {
     "data": {
      "text/html": [
       "<div>\n",
       "<style scoped>\n",
       "    .dataframe tbody tr th:only-of-type {\n",
       "        vertical-align: middle;\n",
       "    }\n",
       "\n",
       "    .dataframe tbody tr th {\n",
       "        vertical-align: top;\n",
       "    }\n",
       "\n",
       "    .dataframe thead th {\n",
       "        text-align: right;\n",
       "    }\n",
       "</style>\n",
       "<table border=\"1\" class=\"dataframe\">\n",
       "  <thead>\n",
       "    <tr style=\"text-align: right;\">\n",
       "      <th></th>\n",
       "      <th>REFR_URLHOST</th>\n",
       "      <th>REFR_MEDIUM</th>\n",
       "    </tr>\n",
       "  </thead>\n",
       "  <tbody>\n",
       "    <tr>\n",
       "      <th>136</th>\n",
       "      <td>facebook</td>\n",
       "      <td>social</td>\n",
       "    </tr>\n",
       "    <tr>\n",
       "      <th>322</th>\n",
       "      <td>facebook</td>\n",
       "      <td>social</td>\n",
       "    </tr>\n",
       "    <tr>\n",
       "      <th>581</th>\n",
       "      <td>facebook</td>\n",
       "      <td>social</td>\n",
       "    </tr>\n",
       "    <tr>\n",
       "      <th>808</th>\n",
       "      <td>facebook</td>\n",
       "      <td>social</td>\n",
       "    </tr>\n",
       "    <tr>\n",
       "      <th>821</th>\n",
       "      <td>t</td>\n",
       "      <td>social</td>\n",
       "    </tr>\n",
       "    <tr>\n",
       "      <th>...</th>\n",
       "      <td>...</td>\n",
       "      <td>...</td>\n",
       "    </tr>\n",
       "    <tr>\n",
       "      <th>9999468</th>\n",
       "      <td>facebook</td>\n",
       "      <td>social</td>\n",
       "    </tr>\n",
       "    <tr>\n",
       "      <th>9999598</th>\n",
       "      <td>facebook</td>\n",
       "      <td>social</td>\n",
       "    </tr>\n",
       "    <tr>\n",
       "      <th>9999604</th>\n",
       "      <td>facebook</td>\n",
       "      <td>social</td>\n",
       "    </tr>\n",
       "    <tr>\n",
       "      <th>9999620</th>\n",
       "      <td>facebook</td>\n",
       "      <td>social</td>\n",
       "    </tr>\n",
       "    <tr>\n",
       "      <th>9999742</th>\n",
       "      <td>facebook</td>\n",
       "      <td>social</td>\n",
       "    </tr>\n",
       "  </tbody>\n",
       "</table>\n",
       "<p>99941 rows × 2 columns</p>\n",
       "</div>"
      ],
      "text/plain": [
       "        REFR_URLHOST REFR_MEDIUM\n",
       "136         facebook      social\n",
       "322         facebook      social\n",
       "581         facebook      social\n",
       "808         facebook      social\n",
       "821                t      social\n",
       "...              ...         ...\n",
       "9999468     facebook      social\n",
       "9999598     facebook      social\n",
       "9999604     facebook      social\n",
       "9999620     facebook      social\n",
       "9999742     facebook      social\n",
       "\n",
       "[99941 rows x 2 columns]"
      ]
     },
     "execution_count": 61,
     "metadata": {},
     "output_type": "execute_result"
    }
   ],
   "source": [
    "nov_social"
   ]
  },
  {
   "cell_type": "code",
   "execution_count": null,
   "id": "union-coating",
   "metadata": {},
   "outputs": [],
   "source": []
  }
 ],
 "metadata": {
  "kernelspec": {
   "display_name": "Python 3",
   "language": "python",
   "name": "python3"
  },
  "language_info": {
   "codemirror_mode": {
    "name": "ipython",
    "version": 3
   },
   "file_extension": ".py",
   "mimetype": "text/x-python",
   "name": "python",
   "nbconvert_exporter": "python",
   "pygments_lexer": "ipython3",
   "version": "3.8.3"
  }
 },
 "nbformat": 4,
 "nbformat_minor": 5
}

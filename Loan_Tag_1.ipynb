{
 "cells": [
  {
   "cell_type": "code",
   "execution_count": 2,
   "id": "dramatic-power",
   "metadata": {},
   "outputs": [],
   "source": [
    "import pandas as pd\n",
    "import numpy as np\n",
    "pd.reset_option(\"display.max_rows\")\n",
    "pd.reset_option(\"display.max_columns\")"
   ]
  },
  {
   "cell_type": "code",
   "execution_count": 3,
   "id": "exempt-hospital",
   "metadata": {},
   "outputs": [],
   "source": [
    "lenders_tags = pd.read_pickle('lenders_with_tags_and_genders')"
   ]
  },
  {
   "cell_type": "code",
   "execution_count": 4,
   "id": "cross-recording",
   "metadata": {},
   "outputs": [],
   "source": [
    "tag = list(lenders_tags['TAG_INTS'])"
   ]
  },
  {
   "cell_type": "code",
   "execution_count": 5,
   "id": "sufficient-thriller",
   "metadata": {},
   "outputs": [],
   "source": [
    "for i in range(len(tag) - 1):\n",
    "    if type(tag[i]) is tuple:\n",
    "        x = []\n",
    "        for j in tag[i]:\n",
    "            x.append(j.strip(' '))\n",
    "        tag[i] = tuple(x)"
   ]
  },
  {
   "cell_type": "code",
   "execution_count": 6,
   "id": "golden-cooperation",
   "metadata": {},
   "outputs": [],
   "source": [
    "lenders_tags['TAG_INTS'] = tag"
   ]
  },
  {
   "cell_type": "code",
   "execution_count": 7,
   "id": "representative-passion",
   "metadata": {},
   "outputs": [],
   "source": [
    "gender_data = lenders_tags[['PGender','TAG_INTS']].explode('TAG_INTS')"
   ]
  },
  {
   "cell_type": "code",
   "execution_count": 8,
   "id": "embedded-ridge",
   "metadata": {},
   "outputs": [],
   "source": [
    "gender_group = gender_data.groupby(['PGender', 'TAG_INTS'])['TAG_INTS'].count()"
   ]
  },
  {
   "cell_type": "code",
   "execution_count": 9,
   "id": "explicit-capital",
   "metadata": {},
   "outputs": [],
   "source": [
    "gender = pd.DataFrame(gender_group)\n",
    "gender.index.names = ['gender', 'tag']\n",
    "gender.reset_index(inplace = True)\n",
    "gender = gender.sort_values(by=['gender', 'TAG_INTS'],ascending = False)\n",
    "gender = gender[gender['tag'] != 'user_favorite']\n",
    "gender_male = gender[gender['gender'] == 'M']\n",
    "gender_female = gender[gender['gender'] == 'F']"
   ]
  },
  {
   "cell_type": "code",
   "execution_count": 10,
   "id": "elegant-astrology",
   "metadata": {},
   "outputs": [],
   "source": [
    "from matplotlib import pyplot as plt\n",
    "import matplotlib.lines as lines"
   ]
  },
  {
   "cell_type": "code",
   "execution_count": 13,
   "id": "sharp-dependence",
   "metadata": {},
   "outputs": [
    {
     "data": {
      "image/png": "[encoded data removed]",
      "text/plain": [
       "<Figure size 1152x648 with 1 Axes>"
      ]
     },
     "metadata": {
      "needs_background": "light"
     },
     "output_type": "display_data"
    }
   ],
   "source": [
    "fig, ax = plt.subplots(figsize=(16,9))\n",
    "x = np.arange(len(gender_male['tag'][0:9])) \n",
    "width = 0.35\n",
    "rects1 = ax.bar(x - width/2, gender_male['TAG_INTS'][0:9], width, label='Men')\n",
    "rects2 = ax.bar(x + width/2, gender_female['TAG_INTS'][0:9], width, label='Women')\n",
    "ax.set_ylabel('Number of Loan')\n",
    "ax.set_title('Loan Tag Gender Distribution')\n",
    "ax.set_xticks(x)\n",
    "ax.set_xticklabels(gender_male['tag'][0:9])\n",
    "ax.legend()\n",
    "\n",
    "#ax.bar_label(rects1, padding=3)\n",
    "#ax.bar_label(rects2, padding=3)\n",
    "\n",
    "fig.tight_layout()\n",
    "plt.savefig('Loan Tag Gender Distribution')\n",
    "plt.show()\n"
   ]
  },
  {
   "cell_type": "code",
   "execution_count": 31,
   "id": "eligible-reduction",
   "metadata": {},
   "outputs": [],
   "source": [
    "lenders_tags['MEMBER_SINCE'] = pd.to_datetime(lenders_tags['MEMBER_SINCE'], unit='s')\n",
    "lenders_tags['PURCHASE_PER_MONTH'] = lenders_tags['LOAN_PURCHASE_NUM']/((pd.to_datetime('2021-02-20 00:00:00') - lenders_tags['MEMBER_SINCE'])/np.timedelta64(1, 'M'))"
   ]
  },
  {
   "cell_type": "code",
   "execution_count": 32,
   "id": "yellow-dietary",
   "metadata": {},
   "outputs": [],
   "source": [
    "loan_per_month = lenders_tags[['TAG_INTS', 'PURCHASE_PER_MONTH']].explode('TAG_INTS').groupby('TAG_INTS').mean()"
   ]
  },
  {
   "cell_type": "code",
   "execution_count": 33,
   "id": "painful-burke",
   "metadata": {},
   "outputs": [],
   "source": [
    "loan_per_month.reset_index(inplace = True)\n",
    "loan_per_month = loan_per_month.sort_values(by=['PURCHASE_PER_MONTH'],ascending = False)"
   ]
  },
  {
   "cell_type": "code",
   "execution_count": 34,
   "id": "inclusive-evans",
   "metadata": {},
   "outputs": [],
   "source": [
    "#######find the tag distriubtion for incuumbent audience "
   ]
  },
  {
   "cell_type": "code",
   "execution_count": 35,
   "id": "stock-moment",
   "metadata": {},
   "outputs": [],
   "source": [
    "incumbent_audience = lenders_tags[(lenders_tags['PURCHASE_PER_MONTH'] > 0.5) & (lenders_tags['PURCHASE_PER_MONTH'] < 2)][['TAG_INTS','PURCHASE_PER_MONTH']]"
   ]
  },
  {
   "cell_type": "code",
   "execution_count": 36,
   "id": "faced-offense",
   "metadata": {},
   "outputs": [],
   "source": [
    "incumbent_audience = incumbent_audience.explode('TAG_INTS').groupby('TAG_INTS').count()"
   ]
  },
  {
   "cell_type": "code",
   "execution_count": 37,
   "id": "brilliant-boating",
   "metadata": {},
   "outputs": [],
   "source": [
    "incumbent_audience.reset_index(inplace = True)\n",
    "incumbent_audience = incumbent_audience.sort_values(by=['PURCHASE_PER_MONTH'],ascending = False)\n",
    "incumbent_audience = incumbent_audience[incumbent_audience['TAG_INTS'] != 'user_favorite']"
   ]
  },
  {
   "cell_type": "code",
   "execution_count": 60,
   "id": "intermediate-apple",
   "metadata": {},
   "outputs": [
    {
     "ename": "ValueError",
     "evalue": "You are trying to merge on object and int64 columns. If you wish to proceed you should use pd.concat",
     "output_type": "error",
     "traceback": [
      "\u001b[0;31m---------------------------------------------------------------------------\u001b[0m",
      "\u001b[0;31mValueError\u001b[0m                                Traceback (most recent call last)",
      "\u001b[0;32m<ipython-input-60-f8612c940dea>\u001b[0m in \u001b[0;36m<module>\u001b[0;34m\u001b[0m\n\u001b[0;32m----> 1\u001b[0;31m \u001b[0mincumbent_audience\u001b[0m\u001b[0;34m.\u001b[0m\u001b[0mmerge\u001b[0m\u001b[0;34m(\u001b[0m\u001b[0mgender\u001b[0m\u001b[0;34m,\u001b[0m \u001b[0mhow\u001b[0m \u001b[0;34m=\u001b[0m \u001b[0;34m'left'\u001b[0m\u001b[0;34m,\u001b[0m \u001b[0mon\u001b[0m \u001b[0;34m=\u001b[0m \u001b[0;34m'TAG_INTS'\u001b[0m\u001b[0;34m)\u001b[0m\u001b[0;34m\u001b[0m\u001b[0;34m\u001b[0m\u001b[0m\n\u001b[0m",
      "\u001b[0;32m/Library/Frameworks/Python.framework/Versions/3.8/lib/python3.8/site-packages/pandas/core/frame.py\u001b[0m in \u001b[0;36mmerge\u001b[0;34m(self, right, how, on, left_on, right_on, left_index, right_index, sort, suffixes, copy, indicator, validate)\u001b[0m\n\u001b[1;32m   8190\u001b[0m         \u001b[0;32mfrom\u001b[0m \u001b[0mpandas\u001b[0m\u001b[0;34m.\u001b[0m\u001b[0mcore\u001b[0m\u001b[0;34m.\u001b[0m\u001b[0mreshape\u001b[0m\u001b[0;34m.\u001b[0m\u001b[0mmerge\u001b[0m \u001b[0;32mimport\u001b[0m \u001b[0mmerge\u001b[0m\u001b[0;34m\u001b[0m\u001b[0;34m\u001b[0m\u001b[0m\n\u001b[1;32m   8191\u001b[0m \u001b[0;34m\u001b[0m\u001b[0m\n\u001b[0;32m-> 8192\u001b[0;31m         return merge(\n\u001b[0m\u001b[1;32m   8193\u001b[0m             \u001b[0mself\u001b[0m\u001b[0;34m,\u001b[0m\u001b[0;34m\u001b[0m\u001b[0;34m\u001b[0m\u001b[0m\n\u001b[1;32m   8194\u001b[0m             \u001b[0mright\u001b[0m\u001b[0;34m,\u001b[0m\u001b[0;34m\u001b[0m\u001b[0;34m\u001b[0m\u001b[0m\n",
      "\u001b[0;32m/Library/Frameworks/Python.framework/Versions/3.8/lib/python3.8/site-packages/pandas/core/reshape/merge.py\u001b[0m in \u001b[0;36mmerge\u001b[0;34m(left, right, how, on, left_on, right_on, left_index, right_index, sort, suffixes, copy, indicator, validate)\u001b[0m\n\u001b[1;32m     72\u001b[0m     \u001b[0mvalidate\u001b[0m\u001b[0;34m=\u001b[0m\u001b[0;32mNone\u001b[0m\u001b[0;34m,\u001b[0m\u001b[0;34m\u001b[0m\u001b[0;34m\u001b[0m\u001b[0m\n\u001b[1;32m     73\u001b[0m ) -> \"DataFrame\":\n\u001b[0;32m---> 74\u001b[0;31m     op = _MergeOperation(\n\u001b[0m\u001b[1;32m     75\u001b[0m         \u001b[0mleft\u001b[0m\u001b[0;34m,\u001b[0m\u001b[0;34m\u001b[0m\u001b[0;34m\u001b[0m\u001b[0m\n\u001b[1;32m     76\u001b[0m         \u001b[0mright\u001b[0m\u001b[0;34m,\u001b[0m\u001b[0;34m\u001b[0m\u001b[0;34m\u001b[0m\u001b[0m\n",
      "\u001b[0;32m/Library/Frameworks/Python.framework/Versions/3.8/lib/python3.8/site-packages/pandas/core/reshape/merge.py\u001b[0m in \u001b[0;36m__init__\u001b[0;34m(self, left, right, how, on, left_on, right_on, axis, left_index, right_index, sort, suffixes, copy, indicator, validate)\u001b[0m\n\u001b[1;32m    670\u001b[0m         \u001b[0;31m# validate the merge keys dtypes. We may need to coerce\u001b[0m\u001b[0;34m\u001b[0m\u001b[0;34m\u001b[0m\u001b[0;34m\u001b[0m\u001b[0m\n\u001b[1;32m    671\u001b[0m         \u001b[0;31m# to avoid incompatible dtypes\u001b[0m\u001b[0;34m\u001b[0m\u001b[0;34m\u001b[0m\u001b[0;34m\u001b[0m\u001b[0m\n\u001b[0;32m--> 672\u001b[0;31m         \u001b[0mself\u001b[0m\u001b[0;34m.\u001b[0m\u001b[0m_maybe_coerce_merge_keys\u001b[0m\u001b[0;34m(\u001b[0m\u001b[0;34m)\u001b[0m\u001b[0;34m\u001b[0m\u001b[0;34m\u001b[0m\u001b[0m\n\u001b[0m\u001b[1;32m    673\u001b[0m \u001b[0;34m\u001b[0m\u001b[0m\n\u001b[1;32m    674\u001b[0m         \u001b[0;31m# If argument passed to validate,\u001b[0m\u001b[0;34m\u001b[0m\u001b[0;34m\u001b[0m\u001b[0;34m\u001b[0m\u001b[0m\n",
      "\u001b[0;32m/Library/Frameworks/Python.framework/Versions/3.8/lib/python3.8/site-packages/pandas/core/reshape/merge.py\u001b[0m in \u001b[0;36m_maybe_coerce_merge_keys\u001b[0;34m(self)\u001b[0m\n\u001b[1;32m   1191\u001b[0m                     \u001b[0minferred_right\u001b[0m \u001b[0;32min\u001b[0m \u001b[0mstring_types\u001b[0m \u001b[0;32mand\u001b[0m \u001b[0minferred_left\u001b[0m \u001b[0;32mnot\u001b[0m \u001b[0;32min\u001b[0m \u001b[0mstring_types\u001b[0m\u001b[0;34m\u001b[0m\u001b[0;34m\u001b[0m\u001b[0m\n\u001b[1;32m   1192\u001b[0m                 ):\n\u001b[0;32m-> 1193\u001b[0;31m                     \u001b[0;32mraise\u001b[0m \u001b[0mValueError\u001b[0m\u001b[0;34m(\u001b[0m\u001b[0mmsg\u001b[0m\u001b[0;34m)\u001b[0m\u001b[0;34m\u001b[0m\u001b[0;34m\u001b[0m\u001b[0m\n\u001b[0m\u001b[1;32m   1194\u001b[0m \u001b[0;34m\u001b[0m\u001b[0m\n\u001b[1;32m   1195\u001b[0m             \u001b[0;31m# datetimelikes must match exactly\u001b[0m\u001b[0;34m\u001b[0m\u001b[0;34m\u001b[0m\u001b[0;34m\u001b[0m\u001b[0m\n",
      "\u001b[0;31mValueError\u001b[0m: You are trying to merge on object and int64 columns. If you wish to proceed you should use pd.concat"
     ]
    }
   ],
   "source": [
    "incumbent_audience.merge(gender, how = 'left', on = 'TAG_INTS')"
   ]
  },
  {
   "cell_type": "code",
   "execution_count": 70,
   "id": "unsigned-cookie",
   "metadata": {},
   "outputs": [],
   "source": [
    "######## find the tag distriubtion from super users"
   ]
  },
  {
   "cell_type": "code",
   "execution_count": 71,
   "id": "individual-atmosphere",
   "metadata": {},
   "outputs": [],
   "source": [
    "super_audience = lenders_tags[lenders_tags['PURCHASE_PER_MONTH'] > 2][['TAG_INTS','PURCHASE_PER_MONTH']]\n",
    "super_audience = super_audience.explode('TAG_INTS').groupby('TAG_INTS').count()\n",
    "super_audience.reset_index(inplace = True)\n",
    "super_audience = super_audience.sort_values(by=['PURCHASE_PER_MONTH'],ascending = False)\n",
    "super_audience = super_audience[super_audience['TAG_INTS'] != 'user_favorite']"
   ]
  },
  {
   "cell_type": "code",
   "execution_count": 75,
   "id": "saving-finish",
   "metadata": {},
   "outputs": [],
   "source": [
    "#######"
   ]
  },
  {
   "cell_type": "code",
   "execution_count": 58,
   "id": "medium-philadelphia",
   "metadata": {},
   "outputs": [
    {
     "data": {
      "text/html": [
       "<div>\n",
       "<style scoped>\n",
       "    .dataframe tbody tr th:only-of-type {\n",
       "        vertical-align: middle;\n",
       "    }\n",
       "\n",
       "    .dataframe tbody tr th {\n",
       "        vertical-align: top;\n",
       "    }\n",
       "\n",
       "    .dataframe thead th {\n",
       "        text-align: right;\n",
       "    }\n",
       "</style>\n",
       "<table border=\"1\" class=\"dataframe\">\n",
       "  <thead>\n",
       "    <tr style=\"text-align: right;\">\n",
       "      <th></th>\n",
       "      <th>gender</th>\n",
       "      <th>tag</th>\n",
       "      <th>TAG_INTS</th>\n",
       "    </tr>\n",
       "  </thead>\n",
       "  <tbody>\n",
       "    <tr>\n",
       "      <th>57</th>\n",
       "      <td>M</td>\n",
       "      <td>Parent</td>\n",
       "      <td>5948374</td>\n",
       "    </tr>\n",
       "    <tr>\n",
       "      <th>78</th>\n",
       "      <td>M</td>\n",
       "      <td>Woman-Owned Business</td>\n",
       "      <td>5793198</td>\n",
       "    </tr>\n",
       "    <tr>\n",
       "      <th>63</th>\n",
       "      <td>M</td>\n",
       "      <td>Repeat Borrower</td>\n",
       "      <td>3354635</td>\n",
       "    </tr>\n",
       "    <tr>\n",
       "      <th>45</th>\n",
       "      <td>M</td>\n",
       "      <td>Elderly</td>\n",
       "      <td>2307388</td>\n",
       "    </tr>\n",
       "    <tr>\n",
       "      <th>42</th>\n",
       "      <td>M</td>\n",
       "      <td>Animals</td>\n",
       "      <td>1813564</td>\n",
       "    </tr>\n",
       "    <tr>\n",
       "      <th>...</th>\n",
       "      <td>...</td>\n",
       "      <td>...</td>\n",
       "      <td>...</td>\n",
       "    </tr>\n",
       "    <tr>\n",
       "      <th>27</th>\n",
       "      <td>F</td>\n",
       "      <td>Team Guys Holding Fish</td>\n",
       "      <td>1083</td>\n",
       "    </tr>\n",
       "    <tr>\n",
       "      <th>17</th>\n",
       "      <td>F</td>\n",
       "      <td>Powerful Story</td>\n",
       "      <td>588</td>\n",
       "    </tr>\n",
       "    <tr>\n",
       "      <th>37</th>\n",
       "      <td>F</td>\n",
       "      <td>reserved_crisis_support_loan</td>\n",
       "      <td>136</td>\n",
       "    </tr>\n",
       "    <tr>\n",
       "      <th>39</th>\n",
       "      <td>F</td>\n",
       "      <td>user_like</td>\n",
       "      <td>5</td>\n",
       "    </tr>\n",
       "    <tr>\n",
       "      <th>18</th>\n",
       "      <td>F</td>\n",
       "      <td>Pre-disbursed</td>\n",
       "      <td>2</td>\n",
       "    </tr>\n",
       "  </tbody>\n",
       "</table>\n",
       "<p>82 rows × 3 columns</p>\n",
       "</div>"
      ],
      "text/plain": [
       "   gender                           tag  TAG_INTS\n",
       "57      M                        Parent   5948374\n",
       "78      M          Woman-Owned Business   5793198\n",
       "63      M               Repeat Borrower   3354635\n",
       "45      M                       Elderly   2307388\n",
       "42      M                       Animals   1813564\n",
       "..    ...                           ...       ...\n",
       "27      F        Team Guys Holding Fish      1083\n",
       "17      F                Powerful Story       588\n",
       "37      F  reserved_crisis_support_loan       136\n",
       "39      F                     user_like         5\n",
       "18      F                 Pre-disbursed         2\n",
       "\n",
       "[82 rows x 3 columns]"
      ]
     },
     "execution_count": 58,
     "metadata": {},
     "output_type": "execute_result"
    }
   ],
   "source": [
    "gender"
   ]
  },
  {
   "cell_type": "code",
   "execution_count": 51,
   "id": "armed-trance",
   "metadata": {},
   "outputs": [
    {
     "data": {
      "text/plain": [
       "poly1d([-600588.01666667, 5209313.17777777])"
      ]
     },
     "execution_count": 51,
     "metadata": {},
     "output_type": "execute_result"
    }
   ],
   "source": [
    "p"
   ]
  },
  {
   "cell_type": "code",
   "execution_count": null,
   "id": "choice-young",
   "metadata": {},
   "outputs": [],
   "source": []
  },
  {
   "cell_type": "code",
   "execution_count": null,
   "id": "governing-doctrine",
   "metadata": {},
   "outputs": [],
   "source": []
  }
 ],
 "metadata": {
  "kernelspec": {
   "display_name": "Python 3",
   "language": "python",
   "name": "python3"
  },
  "language_info": {
   "codemirror_mode": {
    "name": "ipython",
    "version": 3
   },
   "file_extension": ".py",
   "mimetype": "text/x-python",
   "name": "python",
   "nbconvert_exporter": "python",
   "pygments_lexer": "ipython3",
   "version": "3.8.3"
  }
 },
 "nbformat": 4,
 "nbformat_minor": 5
}
